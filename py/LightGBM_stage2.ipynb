{
 "cells": [
  {
   "cell_type": "code",
   "execution_count": 1,
   "metadata": {},
   "outputs": [
    {
     "name": "stderr",
     "output_type": "stream",
     "text": [
      "C:\\Users\\koki2\\anaconda3\\envs\\py38-gpu\\lib\\site-packages\\numpy\\_distributor_init.py:30: UserWarning: loaded more than 1 DLL from .libs:\n",
      "C:\\Users\\koki2\\anaconda3\\envs\\py38-gpu\\lib\\site-packages\\numpy\\.libs\\libopenblas.NOIJJG62EMASZI6NYURL6JBKM4EVBGM7.gfortran-win_amd64.dll\n",
      "C:\\Users\\koki2\\anaconda3\\envs\\py38-gpu\\lib\\site-packages\\numpy\\.libs\\libopenblas.PYQHXLVVQ7VESDPUVUADXEVJOBGHJPAY.gfortran-win_amd64.dll\n",
      "  warnings.warn(\"loaded more than 1 DLL from .libs:\\n%s\" %\n"
     ]
    }
   ],
   "source": [
    "# https://www.kaggle.com/c/ncaaw-march-mania-2021\n",
    "\n",
    "import lightgbm as lgb\n",
    "import xgboost as xgb\n",
    "import pandas as pd\n",
    "import numpy as np\n",
    "import os\n",
    "from sklearn.metrics import mean_squared_error\n",
    "from sklearn.preprocessing import LabelEncoder\n",
    "import gc\n",
    "import seaborn as sns\n",
    "import matplotlib.pyplot as plt\n",
    "from sklearn.model_selection import train_test_split\n",
    "from sklearn.model_selection import KFold\n",
    "from tqdm import tqdm\n",
    "from sklearn import metrics\n",
    "from datetime import datetime\n",
    "from sklearn.metrics import log_loss\n",
    "\n",
    "base_path = 'C:\\\\Users\\\\koki2\\\\Desktop\\\\DS\\\\ML_Competition\\\\NCAA_2022_W'\n",
    "train_01 = pd.read_csv(os.path.join(base_path, 'data', 'train_df_02.csv')).drop('Pred', axis=1)\n",
    "test_01 = pd.read_csv(os.path.join(base_path, 'data', 'test_df_staget2.csv')).drop('Pred', axis=1).drop('target', axis=1)"
   ]
  },
  {
   "cell_type": "code",
   "execution_count": 2,
   "metadata": {},
   "outputs": [
    {
     "data": {
      "text/plain": [
       "(2278, 11)"
      ]
     },
     "execution_count": 2,
     "metadata": {},
     "output_type": "execute_result"
    }
   ],
   "source": [
    "test_01.shape"
   ]
  },
  {
   "cell_type": "code",
   "execution_count": 3,
   "metadata": {},
   "outputs": [
    {
     "data": {
      "text/plain": [
       "(1270, 12)"
      ]
     },
     "execution_count": 3,
     "metadata": {},
     "output_type": "execute_result"
    }
   ],
   "source": [
    "train_01.shape"
   ]
  },
  {
   "cell_type": "code",
   "execution_count": 4,
   "metadata": {},
   "outputs": [
    {
     "data": {
      "text/html": [
       "<div>\n",
       "<style scoped>\n",
       "    .dataframe tbody tr th:only-of-type {\n",
       "        vertical-align: middle;\n",
       "    }\n",
       "\n",
       "    .dataframe tbody tr th {\n",
       "        vertical-align: top;\n",
       "    }\n",
       "\n",
       "    .dataframe thead th {\n",
       "        text-align: right;\n",
       "    }\n",
       "</style>\n",
       "<table border=\"1\" class=\"dataframe\">\n",
       "  <thead>\n",
       "    <tr style=\"text-align: right;\">\n",
       "      <th></th>\n",
       "      <th>0</th>\n",
       "      <th>1</th>\n",
       "      <th>2</th>\n",
       "      <th>3</th>\n",
       "      <th>4</th>\n",
       "    </tr>\n",
       "  </thead>\n",
       "  <tbody>\n",
       "    <tr>\n",
       "      <th>Season</th>\n",
       "      <td>2016</td>\n",
       "      <td>2016</td>\n",
       "      <td>2016</td>\n",
       "      <td>2016</td>\n",
       "      <td>2016</td>\n",
       "    </tr>\n",
       "    <tr>\n",
       "      <th>teamId_01</th>\n",
       "      <td>3106</td>\n",
       "      <td>3106</td>\n",
       "      <td>3107</td>\n",
       "      <td>3107</td>\n",
       "      <td>3107</td>\n",
       "    </tr>\n",
       "    <tr>\n",
       "      <th>teamId_02</th>\n",
       "      <td>3400</td>\n",
       "      <td>3407</td>\n",
       "      <td>3119</td>\n",
       "      <td>3196</td>\n",
       "      <td>3393</td>\n",
       "    </tr>\n",
       "    <tr>\n",
       "      <th>TeamName_01</th>\n",
       "      <td>Alabama St</td>\n",
       "      <td>Alabama St</td>\n",
       "      <td>SUNY Albany</td>\n",
       "      <td>SUNY Albany</td>\n",
       "      <td>SUNY Albany</td>\n",
       "    </tr>\n",
       "    <tr>\n",
       "      <th>TeamName_02</th>\n",
       "      <td>Texas</td>\n",
       "      <td>Troy</td>\n",
       "      <td>Army</td>\n",
       "      <td>Florida</td>\n",
       "      <td>Syracuse</td>\n",
       "    </tr>\n",
       "    <tr>\n",
       "      <th>target</th>\n",
       "      <td>0</td>\n",
       "      <td>0</td>\n",
       "      <td>0</td>\n",
       "      <td>1</td>\n",
       "      <td>0</td>\n",
       "    </tr>\n",
       "    <tr>\n",
       "      <th>ConfAbbrev_01</th>\n",
       "      <td>swac</td>\n",
       "      <td>swac</td>\n",
       "      <td>aec</td>\n",
       "      <td>aec</td>\n",
       "      <td>aec</td>\n",
       "    </tr>\n",
       "    <tr>\n",
       "      <th>ConfAbbrev_02</th>\n",
       "      <td>big_twelve</td>\n",
       "      <td>sun_belt</td>\n",
       "      <td>patriot</td>\n",
       "      <td>sec</td>\n",
       "      <td>acc</td>\n",
       "    </tr>\n",
       "    <tr>\n",
       "      <th>Description_01</th>\n",
       "      <td>Southwest Athletic Conference</td>\n",
       "      <td>Southwest Athletic Conference</td>\n",
       "      <td>America East Conference</td>\n",
       "      <td>America East Conference</td>\n",
       "      <td>America East Conference</td>\n",
       "    </tr>\n",
       "    <tr>\n",
       "      <th>Description_02</th>\n",
       "      <td>Big 12 Conference</td>\n",
       "      <td>Sun Belt Conference</td>\n",
       "      <td>Patriot League</td>\n",
       "      <td>Southeastern Conference</td>\n",
       "      <td>Atlantic Coast Conference</td>\n",
       "    </tr>\n",
       "    <tr>\n",
       "      <th>Seed_01</th>\n",
       "      <td>W15</td>\n",
       "      <td>W15</td>\n",
       "      <td>Z12</td>\n",
       "      <td>Z12</td>\n",
       "      <td>Z12</td>\n",
       "    </tr>\n",
       "    <tr>\n",
       "      <th>Seed_02</th>\n",
       "      <td>W02</td>\n",
       "      <td>X15</td>\n",
       "      <td>Z13</td>\n",
       "      <td>Z05</td>\n",
       "      <td>Z04</td>\n",
       "    </tr>\n",
       "  </tbody>\n",
       "</table>\n",
       "</div>"
      ],
      "text/plain": [
       "                                            0                              1  \\\n",
       "Season                                   2016                           2016   \n",
       "teamId_01                                3106                           3106   \n",
       "teamId_02                                3400                           3407   \n",
       "TeamName_01                        Alabama St                     Alabama St   \n",
       "TeamName_02                             Texas                           Troy   \n",
       "target                                      0                              0   \n",
       "ConfAbbrev_01                            swac                           swac   \n",
       "ConfAbbrev_02                      big_twelve                       sun_belt   \n",
       "Description_01  Southwest Athletic Conference  Southwest Athletic Conference   \n",
       "Description_02              Big 12 Conference            Sun Belt Conference   \n",
       "Seed_01                                   W15                            W15   \n",
       "Seed_02                                   W02                            X15   \n",
       "\n",
       "                                      2                        3  \\\n",
       "Season                             2016                     2016   \n",
       "teamId_01                          3107                     3107   \n",
       "teamId_02                          3119                     3196   \n",
       "TeamName_01                 SUNY Albany              SUNY Albany   \n",
       "TeamName_02                        Army                  Florida   \n",
       "target                                0                        1   \n",
       "ConfAbbrev_01                       aec                      aec   \n",
       "ConfAbbrev_02                   patriot                      sec   \n",
       "Description_01  America East Conference  America East Conference   \n",
       "Description_02           Patriot League  Southeastern Conference   \n",
       "Seed_01                             Z12                      Z12   \n",
       "Seed_02                             Z13                      Z05   \n",
       "\n",
       "                                        4  \n",
       "Season                               2016  \n",
       "teamId_01                            3107  \n",
       "teamId_02                            3393  \n",
       "TeamName_01                   SUNY Albany  \n",
       "TeamName_02                      Syracuse  \n",
       "target                                  0  \n",
       "ConfAbbrev_01                         aec  \n",
       "ConfAbbrev_02                         acc  \n",
       "Description_01    America East Conference  \n",
       "Description_02  Atlantic Coast Conference  \n",
       "Seed_01                               Z12  \n",
       "Seed_02                               Z04  "
      ]
     },
     "execution_count": 4,
     "metadata": {},
     "output_type": "execute_result"
    }
   ],
   "source": [
    "train_01.head().T"
   ]
  },
  {
   "cell_type": "code",
   "execution_count": 5,
   "metadata": {},
   "outputs": [],
   "source": [
    "cat_features = ['teamId_01', 'TeamName_01',\n",
    "                'teamId_02', 'TeamName_02',\n",
    "               'ConfAbbrev_01', 'Description_01', 'Seed_01',\n",
    "               'ConfAbbrev_02', 'Description_02', 'Seed_02']"
   ]
  },
  {
   "cell_type": "code",
   "execution_count": 6,
   "metadata": {},
   "outputs": [
    {
     "name": "stderr",
     "output_type": "stream",
     "text": [
      "100%|██████████| 10/10 [00:00<00:00, 280.08it/s]\n",
      "100%|██████████| 10/10 [00:00<00:00, 303.58it/s]\n",
      "100%|██████████| 10/10 [00:00<00:00, 35.43it/s]\n"
     ]
    }
   ],
   "source": [
    "# Count Encoding\n",
    "def create_features_categorical(base_df, input_df, categorical_cols):\n",
    "    for col in tqdm(categorical_cols):\n",
    "        CE_df = base_df[col].value_counts(dropna=False).reset_index()\n",
    "        CE_df.columns = [col, 'CE_'+col]\n",
    "        input_df = input_df.merge(CE_df, how='left', on = col)\n",
    "    return input_df\n",
    "\n",
    "train_02 = create_features_categorical(base_df=train_01, \n",
    "            input_df=train_01,\n",
    "            categorical_cols = cat_features)\n",
    "\n",
    "test_02 = create_features_categorical(base_df=train_01, \n",
    "            input_df=test_01,\n",
    "            categorical_cols = cat_features)\n",
    "\n",
    "# Label Encoding\n",
    "for col in cat_features:\n",
    "    gc.collect()\n",
    "    train_02[col] = train_02[col].astype(str)\n",
    "    test_02[col] = test_02[col].astype(str)\n",
    "\n",
    "for col in tqdm(cat_features):\n",
    "    gc.collect()\n",
    "    le = LabelEncoder()\n",
    "    le.fit(pd.concat([train_02[col], test_02[col]], axis=0, sort=False))\n",
    "    train_02['LE_' + str(col)] = le.transform(train_02[col])\n",
    "    test_02['LE_' + str(col)] = le.transform(test_02[col])"
   ]
  },
  {
   "cell_type": "code",
   "execution_count": 7,
   "metadata": {},
   "outputs": [
    {
     "name": "stderr",
     "output_type": "stream",
     "text": [
      "100%|██████████| 10/10 [00:00<00:00, 119.33it/s]\n"
     ]
    }
   ],
   "source": [
    "# Target Encoding\n",
    "split_num = 5\n",
    "train_01['target'] = np.where(train_01['target'] > 0.5, 1, 0)\n",
    "target = train_01['target']\n",
    "\n",
    "for col in tqdm(cat_features):\n",
    "    data_tmp = pd.DataFrame({col: train_02[col], 'target' : target})\n",
    "    target_mean = data_tmp.groupby(col)['target'].mean()\n",
    "    test_02['TE_' + col] = test_02[col].map(target_mean)\n",
    "    tmp = np.repeat(np.nan, train_02.shape[0])\n",
    "    \n",
    "    kf = KFold(n_splits=split_num, shuffle = True, random_state = 72)\n",
    "    for idx_1, idx_2 in kf.split(train_02):\n",
    "        target_mean = data_tmp.iloc[idx_1].groupby(col)['target'].mean()\n",
    "        tmp[idx_2] = train_02[col].iloc[idx_2].map(target_mean)\n",
    "    \n",
    "    train_02['TE_' + col] = tmp"
   ]
  },
  {
   "cell_type": "code",
   "execution_count": 9,
   "metadata": {},
   "outputs": [
    {
     "data": {
      "text/plain": [
       "30"
      ]
     },
     "execution_count": 9,
     "metadata": {},
     "output_type": "execute_result"
    }
   ],
   "source": [
    "# Select Features to use\n",
    "base_cols_01 = []\n",
    "col_names_CE = train_02.loc[:, [c.startswith('CE_') for c in train_02.columns]].columns\n",
    "col_names_LE = train_02.loc[:, [c.startswith('LE_') for c in train_02.columns]].columns\n",
    "col_names_TE = train_02.loc[:, [c.startswith('TE_') for c in train_02.columns]].columns\n",
    "features = []\n",
    "for item in list(col_names_CE), list(col_names_LE), list(col_names_TE):\n",
    "    # appending elements to the flat_list\n",
    "    features += item\n",
    "train_01['target'] = np.where(train_01['target'] > 0.5, 1, 0)\n",
    "target = train_01['target']\n",
    "len(features)\n",
    "# "
   ]
  },
  {
   "cell_type": "code",
   "execution_count": 10,
   "metadata": {},
   "outputs": [
    {
     "data": {
      "text/plain": [
       "((1270, 42), (2278, 41))"
      ]
     },
     "execution_count": 10,
     "metadata": {},
     "output_type": "execute_result"
    }
   ],
   "source": [
    "train_02.shape, test_02.shape"
   ]
  },
  {
   "cell_type": "code",
   "execution_count": 11,
   "metadata": {},
   "outputs": [],
   "source": [
    "train_df = train_02\n",
    "test_df = test_02"
   ]
  },
  {
   "cell_type": "code",
   "execution_count": 12,
   "metadata": {
    "scrolled": false
   },
   "outputs": [
    {
     "name": "stdout",
     "output_type": "stream",
     "text": [
      "Training until validation scores don't improve for 50 rounds\n",
      "[50]\ttraining's binary_logloss: 0.522609\tvalid_1's binary_logloss: 0.606013\n",
      "[100]\ttraining's binary_logloss: 0.428199\tvalid_1's binary_logloss: 0.569398\n",
      "[150]\ttraining's binary_logloss: 0.364179\tvalid_1's binary_logloss: 0.554701\n",
      "[200]\ttraining's binary_logloss: 0.313807\tvalid_1's binary_logloss: 0.550602\n",
      "[250]\ttraining's binary_logloss: 0.274212\tvalid_1's binary_logloss: 0.548422\n",
      "Early stopping, best iteration is:\n",
      "[249]\ttraining's binary_logloss: 0.274921\tvalid_1's binary_logloss: 0.548291\n",
      "0.5482908050532543\n",
      "Training until validation scores don't improve for 50 rounds\n",
      "[50]\ttraining's binary_logloss: 0.524732\tvalid_1's binary_logloss: 0.601882\n",
      "[100]\ttraining's binary_logloss: 0.432163\tvalid_1's binary_logloss: 0.570698\n",
      "[150]\ttraining's binary_logloss: 0.368229\tvalid_1's binary_logloss: 0.559265\n",
      "[200]\ttraining's binary_logloss: 0.31987\tvalid_1's binary_logloss: 0.562307\n",
      "Early stopping, best iteration is:\n",
      "[162]\ttraining's binary_logloss: 0.355853\tvalid_1's binary_logloss: 0.558872\n",
      "0.5588716492001436\n",
      "------------------\n",
      "0.553581227126699\n",
      "Wall time: 307 ms\n"
     ]
    }
   ],
   "source": [
    "%%time\n",
    "n_round = 500 #5000\n",
    "fold_num = 2\n",
    "params_lgb = {'num_leaves': 20,\n",
    "          'min_data_in_leaf': 10,\n",
    "          'objective': 'binary',\n",
    "          'max_depth': -1,\n",
    "          'learning_rate': 0.01,\n",
    "          \"boosting_type\": \"gbdt\",\n",
    "          \"bagging_seed\": 11,\n",
    "          \"metric\": 'binary_logloss',\n",
    "          'random_state': 42,\n",
    "              'early_stopping_rounds ':50\n",
    "         }\n",
    "\n",
    "scores=[]\n",
    "y_preds_lgb = np.zeros(test_df.shape[0])\n",
    "feature_importances = pd.DataFrame()\n",
    "feature_importances['feature'] = train_df[features].columns\n",
    "\n",
    "gc.collect()\n",
    "kf = KFold(fold_num, shuffle=True, random_state=71)\n",
    "for fold_n, (tr_idx, va_idx) in enumerate(kf.split(train_df)):\n",
    "    X_train, X_valid = train_df[features].iloc[tr_idx], train_df[features].iloc[va_idx]\n",
    "    y_train, y_valid = target.iloc[tr_idx], target.iloc[va_idx]\n",
    "\n",
    "    dtrain = lgb.Dataset(X_train, label=y_train)\n",
    "    dvalid = lgb.Dataset(X_valid, label=y_valid)\n",
    "    model = lgb.train(params_lgb, dtrain, n_round, \n",
    "                      verbose_eval = 50,\n",
    "                      early_stopping_rounds =50,\n",
    "                      valid_sets = [dtrain, dvalid])\n",
    "    gc.collect()\n",
    "    feature_importances[f'fold_{fold_n + 1}'] = model.feature_importance()\n",
    "    y_pred_valid = model.predict(X_valid)\n",
    "    y_preds_lgb += model.predict(test_df[features])/fold_num\n",
    "    score = log_loss(y_valid.values, y_pred_valid)\n",
    "    scores.append(score)\n",
    "    print(score)\n",
    "\n",
    "print('------------------')\n",
    "print(np.mean(scores))"
   ]
  },
  {
   "cell_type": "code",
   "execution_count": 13,
   "metadata": {},
   "outputs": [
    {
     "data": {
      "text/plain": [
       "30"
      ]
     },
     "execution_count": 13,
     "metadata": {},
     "output_type": "execute_result"
    }
   ],
   "source": [
    "# -- this year --\n",
    "# 0.553581227126699\n",
    "\n",
    "len(features)"
   ]
  },
  {
   "cell_type": "code",
   "execution_count": 16,
   "metadata": {},
   "outputs": [
    {
     "data": {
      "text/html": [
       "<div>\n",
       "<style scoped>\n",
       "    .dataframe tbody tr th:only-of-type {\n",
       "        vertical-align: middle;\n",
       "    }\n",
       "\n",
       "    .dataframe tbody tr th {\n",
       "        vertical-align: top;\n",
       "    }\n",
       "\n",
       "    .dataframe thead th {\n",
       "        text-align: right;\n",
       "    }\n",
       "</style>\n",
       "<table border=\"1\" class=\"dataframe\">\n",
       "  <thead>\n",
       "    <tr style=\"text-align: right;\">\n",
       "      <th></th>\n",
       "      <th>ID</th>\n",
       "      <th>Pred</th>\n",
       "    </tr>\n",
       "  </thead>\n",
       "  <tbody>\n",
       "    <tr>\n",
       "      <th>0</th>\n",
       "      <td>2022_3107_3110</td>\n",
       "      <td>0.639602</td>\n",
       "    </tr>\n",
       "    <tr>\n",
       "      <th>1</th>\n",
       "      <td>2022_3107_3112</td>\n",
       "      <td>0.108020</td>\n",
       "    </tr>\n",
       "    <tr>\n",
       "      <th>2</th>\n",
       "      <td>2022_3107_3116</td>\n",
       "      <td>0.104950</td>\n",
       "    </tr>\n",
       "    <tr>\n",
       "      <th>3</th>\n",
       "      <td>2022_3107_3124</td>\n",
       "      <td>0.145300</td>\n",
       "    </tr>\n",
       "    <tr>\n",
       "      <th>4</th>\n",
       "      <td>2022_3107_3125</td>\n",
       "      <td>0.273923</td>\n",
       "    </tr>\n",
       "  </tbody>\n",
       "</table>\n",
       "</div>"
      ],
      "text/plain": [
       "               ID      Pred\n",
       "0  2022_3107_3110  0.639602\n",
       "1  2022_3107_3112  0.108020\n",
       "2  2022_3107_3116  0.104950\n",
       "3  2022_3107_3124  0.145300\n",
       "4  2022_3107_3125  0.273923"
      ]
     },
     "execution_count": 16,
     "metadata": {},
     "output_type": "execute_result"
    }
   ],
   "source": [
    "now = datetime.now()\n",
    "now_time = str(now).replace('.', '')\n",
    "sub_file_path=os.path.join('data', 'submission', f'submission{now_time}.csv')\n",
    "PATH=sub_file_path.replace('-', '').replace(':', '').replace(' ', '')\n",
    "sample_submission = pd.read_csv(os.path.join(base_path, 'WDataFiles_Stage2', 'WSampleSubmissionStage2.csv'))\n",
    "sample_submission['Pred'] = y_preds_lgb\n",
    "sample_submission.to_csv(os.path.join(base_path, PATH), index=False)\n",
    "sample_submission.head()"
   ]
  }
 ],
 "metadata": {
  "kernelspec": {
   "display_name": "Python 3",
   "language": "python",
   "name": "python3"
  },
  "language_info": {
   "codemirror_mode": {
    "name": "ipython",
    "version": 3
   },
   "file_extension": ".py",
   "mimetype": "text/x-python",
   "name": "python",
   "nbconvert_exporter": "python",
   "pygments_lexer": "ipython3",
   "version": "3.8.5"
  }
 },
 "nbformat": 4,
 "nbformat_minor": 4
}
